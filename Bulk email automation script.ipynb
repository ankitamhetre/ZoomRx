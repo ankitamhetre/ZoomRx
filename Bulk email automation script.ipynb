{
 "cells": [
  {
   "cell_type": "markdown",
   "metadata": {},
   "source": [
    "# Bulk email automation task"
   ]
  },
  {
   "cell_type": "code",
   "execution_count": 1,
   "metadata": {},
   "outputs": [],
   "source": [
    "# Import modules\n",
    "import pandas as pd\n",
    "import mammoth # to convert docx file to html\n",
    "\n",
    "import smtplib, ssl  #to establish connection between gmail and python\n",
    "\n",
    "## email.mime subclasses\n",
    "from email.mime.multipart import MIMEMultipart\n",
    "from email.mime.text import MIMEText"
   ]
  },
  {
   "cell_type": "code",
   "execution_count": 2,
   "metadata": {},
   "outputs": [],
   "source": [
    "#my login credentials\n",
    "\n",
    "email_from = \"ankita.mhetre@zoomrx.com\"\n",
    "password =\"ewubambrkhdfoqch\""
   ]
  },
  {
   "cell_type": "code",
   "execution_count": 3,
   "metadata": {},
   "outputs": [],
   "source": [
    "# Import csv that contains credentials of cleints\n",
    "email_list = pd.read_csv(\"Menarini Credentials - Bulk email (1).csv\")"
   ]
  },
  {
   "cell_type": "code",
   "execution_count": 4,
   "metadata": {},
   "outputs": [
    {
     "data": {
      "text/html": [
       "<div>\n",
       "<style scoped>\n",
       "    .dataframe tbody tr th:only-of-type {\n",
       "        vertical-align: middle;\n",
       "    }\n",
       "\n",
       "    .dataframe tbody tr th {\n",
       "        vertical-align: top;\n",
       "    }\n",
       "\n",
       "    .dataframe thead th {\n",
       "        text-align: right;\n",
       "    }\n",
       "</style>\n",
       "<table border=\"1\" class=\"dataframe\">\n",
       "  <thead>\n",
       "    <tr style=\"text-align: right;\">\n",
       "      <th></th>\n",
       "      <th>First Name</th>\n",
       "      <th>Email ID</th>\n",
       "      <th>Password</th>\n",
       "      <th>Tenant Link</th>\n",
       "      <th>cc</th>\n",
       "    </tr>\n",
       "  </thead>\n",
       "  <tbody>\n",
       "    <tr>\n",
       "      <th>0</th>\n",
       "      <td>Antonia</td>\n",
       "      <td>amefford@stemline.com</td>\n",
       "      <td>zHkmkYRl</td>\n",
       "      <td>https://menarini.ferma.ai/#/login</td>\n",
       "      <td>planners@zoomrx.com</td>\n",
       "    </tr>\n",
       "    <tr>\n",
       "      <th>1</th>\n",
       "      <td>Maria</td>\n",
       "      <td>mdecarvalho@stemline.com</td>\n",
       "      <td>E4HZOw8A</td>\n",
       "      <td>https://menarini.ferma.ai/#/login</td>\n",
       "      <td>planners@zoomrx.com</td>\n",
       "    </tr>\n",
       "    <tr>\n",
       "      <th>2</th>\n",
       "      <td>Megan</td>\n",
       "      <td>msell@stemline.com</td>\n",
       "      <td>UV0Fmlm2</td>\n",
       "      <td>https://menarini.ferma.ai/#/login</td>\n",
       "      <td>planners@zoomrx.com</td>\n",
       "    </tr>\n",
       "    <tr>\n",
       "      <th>3</th>\n",
       "      <td>Mary</td>\n",
       "      <td>mhohman@stemline.com</td>\n",
       "      <td>9A7q2Cl9</td>\n",
       "      <td>https://menarini.ferma.ai/#/login</td>\n",
       "      <td>planners@zoomrx.com</td>\n",
       "    </tr>\n",
       "  </tbody>\n",
       "</table>\n",
       "</div>"
      ],
      "text/plain": [
       "  First Name                  Email ID  Password  \\\n",
       "0    Antonia     amefford@stemline.com  zHkmkYRl   \n",
       "1      Maria  mdecarvalho@stemline.com  E4HZOw8A   \n",
       "2      Megan        msell@stemline.com  UV0Fmlm2   \n",
       "3       Mary      mhohman@stemline.com  9A7q2Cl9   \n",
       "\n",
       "                         Tenant Link                   cc  \n",
       "0  https://menarini.ferma.ai/#/login  planners@zoomrx.com  \n",
       "1  https://menarini.ferma.ai/#/login  planners@zoomrx.com  \n",
       "2  https://menarini.ferma.ai/#/login  planners@zoomrx.com  \n",
       "3  https://menarini.ferma.ai/#/login  planners@zoomrx.com  "
      ]
     },
     "execution_count": 4,
     "metadata": {},
     "output_type": "execute_result"
    }
   ],
   "source": [
    "email_list"
   ]
  },
  {
   "cell_type": "code",
   "execution_count": 5,
   "metadata": {},
   "outputs": [],
   "source": [
    "# Get all the Names, Email Addreses, password,tenant link and cc\n",
    "\n",
    "all_names = email_list['First Name']\n",
    "all_emails = email_list['Email ID']\n",
    "all_password=email_list['Password']\n",
    "all_links=email_list['Tenant Link']\n",
    "all_cc=email_list['cc']"
   ]
  },
  {
   "cell_type": "code",
   "execution_count": 6,
   "metadata": {},
   "outputs": [
    {
     "name": "stdout",
     "output_type": "stream",
     "text": [
      "Email to amefford@stemline.com successfully sent!\n",
      "\n",
      "\n",
      "Email to mdecarvalho@stemline.com successfully sent!\n",
      "\n",
      "\n",
      "Email to msell@stemline.com successfully sent!\n",
      "\n",
      "\n",
      "Email to mhohman@stemline.com successfully sent!\n",
      "\n",
      "\n"
     ]
    }
   ],
   "source": [
    "# Loop through the all emails and send each of them a customized email\n",
    "for idx in range(len(all_emails)):\n",
    "\n",
    "    email_message = MIMEMultipart()\n",
    "    email_message['From'] = email_from\n",
    "    email_message['To'] = all_emails[idx]\n",
    "    email_message['Cc'] = all_cc[idx]\n",
    "    email_message['Subject']='Access to Ferma.ai'\n",
    "    \n",
    "    # Get each records name, email,tenant link and password\n",
    "    name = all_names[idx]\n",
    "    email = all_emails[idx]\n",
    "    links=all_links[idx]\n",
    "    password_=all_password[idx]\n",
    "    cc=all_cc[idx]\n",
    "   \n",
    "    # convert the document into html format\n",
    "    with open(\"Menarini - Client Email Format (1).docx\", \"rb\") as docx_file:\n",
    "        result = mammoth.convert_to_html(docx_file)\n",
    "        html = result.value\n",
    "    \n",
    "    # replace the tags to customize the email body    \n",
    "    html = html.replace(\"&lt;first_name&gt;\", all_names[idx])\n",
    "    html = html.replace('&lt;URL&gt;',all_links[idx])\n",
    "    html = html.replace('&lt;email_id&gt;',all_emails[idx])\n",
    "    html = html.replace('&lt;password&gt;',all_password[idx])\n",
    "    \n",
    "\n",
    "    # Attach the html doc defined earlier, as a MIMEText html content type to the MIME message\n",
    "    email_message.attach(MIMEText(html, \"html\"))\n",
    "    # Convert it as a string\n",
    "    email_string = email_message.as_string()\n",
    "\n",
    "    \n",
    "    # Connect to the Gmail SMTP server and Send Email\n",
    "    context = ssl.create_default_context()\n",
    "    with smtplib.SMTP_SSL(\"smtp.gmail.com\", 465, context=context) as server:\n",
    "        server.login(email_from, password)\n",
    "       \n",
    "    # try to send the email,if not successful print the exception message \n",
    "        try:\n",
    "            server.sendmail(email_from, [all_emails[idx],all_cc[idx]], email_string)\n",
    "            print('Email to {} successfully sent!\\n\\n'.format(all_emails[idx]))\n",
    "        \n",
    "        except Exception as e:\n",
    "            print('Email to {} could not be sent :( because {}\\n\\n'.format(all_emails[idx], str(e)))\n",
    "\n"
   ]
  },
  {
   "cell_type": "code",
   "execution_count": null,
   "metadata": {},
   "outputs": [],
   "source": [
    "#close the server connection\n",
    "server.close()"
   ]
  }
 ],
 "metadata": {
  "kernelspec": {
   "display_name": "Python 3 (ipykernel)",
   "language": "python",
   "name": "python3"
  },
  "language_info": {
   "codemirror_mode": {
    "name": "ipython",
    "version": 3
   },
   "file_extension": ".py",
   "mimetype": "text/x-python",
   "name": "python",
   "nbconvert_exporter": "python",
   "pygments_lexer": "ipython3",
   "version": "3.9.7"
  }
 },
 "nbformat": 4,
 "nbformat_minor": 4
}
