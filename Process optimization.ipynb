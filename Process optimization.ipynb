{
 "cells": [
  {
   "cell_type": "markdown",
   "id": "991cb2e1",
   "metadata": {},
   "source": [
    "#### Creating client and accessing google sheet"
   ]
  },
  {
   "cell_type": "code",
   "execution_count": null,
   "id": "285a7d24",
   "metadata": {},
   "outputs": [],
   "source": [
    "import pygsheets\n",
    "import time\n",
    "# Create the Client\n",
    "# Enter the name of the downloaded KEYS file in service_account_file\n",
    "\n",
    "client = pygsheets.authorize(service_account_file=\"credentials.json\")\n",
    "  \n",
    "# Sample command to verify successful authorization of pygsheets\n",
    "\n",
    "print(client.spreadsheet_titles()) # Prints the names of the spreadsheets shared with service account"
   ]
  },
  {
   "cell_type": "code",
   "execution_count": null,
   "id": "efae320a",
   "metadata": {},
   "outputs": [],
   "source": [
    "#user inputs needed to specify which spreadsheet you will be working on\n",
    "url=\"https://docs.google.com/spreadsheets/d/1k7_Qq4JGoqyW_cR68GRvqBfoCQkOXKt0pZSXEJxpyNw/edit#gid=0\"\n",
    "spreadsheetID=\"1k7_Qq4JGoqyW_cR68GRvqBfoCQkOXKt0pZSXEJxpyNw\""
   ]
  },
  {
   "cell_type": "code",
   "execution_count": null,
   "id": "cdd25817",
   "metadata": {},
   "outputs": [],
   "source": [
    "#open the particular spreadsheet\n",
    "#spreadsht = client.open(\"Asco 2022 automation\")\n",
    "#spreadsht=client.open_by_url(\"https://docs.google.com/spreadsheets/d/1k7_Qq4JGoqyW_cR68GRvqBfoCQkOXKt0pZSXEJxpyNw/edit#gid=0\")\n",
    "spreadsht=client.open_by_url(url)\n",
    "# opens a worksheet by its name/title\n",
    "ws_rd = spreadsht.worksheet(\"title\", \"Raw data\")"
   ]
  },
  {
   "cell_type": "code",
   "execution_count": null,
   "id": "7b8319ca",
   "metadata": {},
   "outputs": [],
   "source": [
    "#create copies of raw data to work on \n",
    "for i in range(2):\n",
    "    ws_rd.copy_to(spreadsheetID)"
   ]
  },
  {
   "cell_type": "code",
   "execution_count": null,
   "id": "9d564198",
   "metadata": {},
   "outputs": [],
   "source": [
    "#open the copies and rename them to base planner and version_1 respectively\n",
    "ws_v1 = spreadsht.worksheet(\"title\", \"Copy of Raw data\")\n",
    "ws=spreadsht.worksheet(\"title\", \"Copy of Raw data 1\")\n",
    "# rename the copies as version_1 and base planner\n",
    "ws.title=\"Base Planner\"\n",
    "ws_v1.title=\"version_1\""
   ]
  },
  {
   "cell_type": "markdown",
   "id": "07929494",
   "metadata": {},
   "source": [
    "#### Delete unnecessary columns\n",
    "****syntax: delete_cols(index, number=1)****"
   ]
  },
  {
   "cell_type": "code",
   "execution_count": null,
   "id": "08066d35",
   "metadata": {},
   "outputs": [],
   "source": [
    "#empty columns at the end\n",
    "ws.delete_cols(25,2)   \n",
    "#delete track and subtrack\n",
    "ws.delete_cols(8,2)"
   ]
  },
  {
   "cell_type": "code",
   "execution_count": null,
   "id": "af98a531",
   "metadata": {},
   "outputs": [],
   "source": [
    "#delete keyword verification flag\n",
    "ws.delete_cols(10,1)"
   ]
  },
  {
   "cell_type": "code",
   "execution_count": null,
   "id": "f1bfce2d",
   "metadata": {},
   "outputs": [],
   "source": [
    "#delete drugs column\n",
    "ws.delete_cols(12,1)"
   ]
  },
  {
   "cell_type": "code",
   "execution_count": null,
   "id": "ebfe9387",
   "metadata": {},
   "outputs": [],
   "source": [
    "#delete drug classification column\n",
    "ws.delete_cols(15,1)"
   ]
  },
  {
   "cell_type": "markdown",
   "id": "6becbbf2",
   "metadata": {},
   "source": [
    "### Formatting"
   ]
  },
  {
   "cell_type": "markdown",
   "id": "2f89f079",
   "metadata": {},
   "source": [
    "#### Change dimensions of rows and columns"
   ]
  },
  {
   "cell_type": "code",
   "execution_count": null,
   "id": "561d0259",
   "metadata": {},
   "outputs": [],
   "source": [
    "#changing column width of all columns except for id to 150\n",
    "ws.adjust_column_width(2,24,150)\n",
    "\n",
    "#changing column width of abstract column to 600\n",
    "ws.adjust_column_width(5,5,600)\n",
    "\n",
    "#adjust row height\n",
    "ws.adjust_row_height(1, end=10000, pixel_size=50)"
   ]
  },
  {
   "cell_type": "markdown",
   "id": "7442813c",
   "metadata": {},
   "source": [
    "#### Change headers section"
   ]
  },
  {
   "cell_type": "code",
   "execution_count": null,
   "id": "46b025d4",
   "metadata": {},
   "outputs": [],
   "source": [
    "headers=['A1','B1','C1','D1','E1','F1','G1','H1','I1','J1','K1','L1','M1','N1','O1','P1','Q1','R1',\n",
    "        'S1']"
   ]
  },
  {
   "cell_type": "code",
   "execution_count": null,
   "id": "aa842269",
   "metadata": {},
   "outputs": [],
   "source": [
    "#bold the headers\n",
    "for i in headers:\n",
    "    #print(i)\n",
    "    ws.cell(i).set_text_format('bold', True)\n",
    "    #fill blue color for headers\n",
    "    ws.cell(i).color = (0,0,1,0) \n",
    "    #change font color to white\n",
    "    ws.cell(i).set_text_format('foregroundColor',value=(1,1,1,0))"
   ]
  },
  {
   "cell_type": "markdown",
   "id": "ef99b06a",
   "metadata": {},
   "source": [
    "#### Apply Borders"
   ]
  },
  {
   "cell_type": "code",
   "execution_count": null,
   "id": "cd04641b",
   "metadata": {},
   "outputs": [],
   "source": [
    "from pygsheets import DataRange\n",
    "drange = DataRange(start='A1', end='U10000', worksheet=ws)\n",
    "drange.update_borders(top=True, right=True, bottom=True, left=True, inner_horizontal=True, inner_vertical=True, style='SOLID', width=1, red=0, green=0, blue=0)"
   ]
  },
  {
   "cell_type": "markdown",
   "id": "0080b58a",
   "metadata": {},
   "source": [
    "#### Making copies for each entity QC"
   ]
  },
  {
   "cell_type": "code",
   "execution_count": null,
   "id": "09abf5da",
   "metadata": {},
   "outputs": [],
   "source": [
    "#create 4 copies of the base planner for drug,drug class,indication and firm nct\n",
    "for i in range(4):\n",
    "    ws.copy_to(spreadsheetID)"
   ]
  },
  {
   "cell_type": "code",
   "execution_count": null,
   "id": "f1cc2c02",
   "metadata": {},
   "outputs": [],
   "source": [
    "# opens worksheets by its name/title\n",
    "ws_drug = spreadsht.worksheet(\"title\", \"Copy of Base Planner\")\n",
    "ws_drug_class=spreadsht.worksheet(\"title\", \"Copy of Base Planner 1\")\n",
    "ws_indication=spreadsht.worksheet(\"title\", \"Copy of Base Planner 2\")\n",
    "ws_firm=spreadsht.worksheet(\"title\", \"Copy of Base Planner 3\")"
   ]
  },
  {
   "cell_type": "code",
   "execution_count": null,
   "id": "a70cc46d",
   "metadata": {},
   "outputs": [],
   "source": [
    "# rename the copies as drug,drug_class,indication and firm/nct\n",
    "ws_drug.title=\"Drugs\"\n",
    "ws_drug_class.title=\"Drug_class\"\n",
    "ws_indication.title=\"indication\"\n",
    "ws_firm.title=\"firm/nct\""
   ]
  },
  {
   "cell_type": "code",
   "execution_count": null,
   "id": "39dac476",
   "metadata": {},
   "outputs": [],
   "source": [
    "#Hide other columns from each sheet\n",
    "\n",
    "#Hide other columns for drug\n",
    "ws_drug.update_dimensions_visibility(2, end=11, dimension='COLUMNS', hidden=True)\n",
    "ws_drug.update_dimensions_visibility(15, end=19, dimension='COLUMNS', hidden=True)\n",
    "\n",
    "#Hide other columns for drug_class\n",
    "ws_drug_class.update_dimensions_visibility(2, end=14, dimension='COLUMNS', hidden=True)\n",
    "ws_drug_class.update_dimensions_visibility(16, end=19, dimension='COLUMNS', hidden=True)\n",
    "\n",
    "#Hide other columns for indication\n",
    "ws_indication.update_dimensions_visibility(2, end=16, dimension='COLUMNS', hidden=True)\n",
    "ws_indication.update_dimensions_visibility(18, end=19, dimension='COLUMNS', hidden=True)\n",
    "\n",
    "#Hide other columns for firm/nct\n",
    "ws_firm.update_dimensions_visibility(2, end=9, dimension='COLUMNS', hidden=True)\n",
    "ws_firm.update_dimensions_visibility(11, end=17, dimension='COLUMNS', hidden=True)"
   ]
  },
  {
   "cell_type": "markdown",
   "id": "67b8e8dc",
   "metadata": {},
   "source": [
    "Send these 4 sheets to specific teams for QC and receive the Qc'd data in the same 4 sheets with internal_ids kept consistent across all 4 files"
   ]
  },
  {
   "cell_type": "markdown",
   "id": "e8758a9a",
   "metadata": {},
   "source": [
    "#### Vlookup Qc'd data into Base Planner"
   ]
  },
  {
   "cell_type": "code",
   "execution_count": null,
   "id": "f19a0480",
   "metadata": {},
   "outputs": [],
   "source": [
    "#primary drugs \n",
    "list_1 = ws_drug.range('L2:L10000',returnas='matrix')\n",
    "#secondary drugs \n",
    "list_2 = ws_drug.range('M2:M10000',returnas='matrix')\n",
    "#comparator drugs \n",
    "list_3 = ws_drug.range('N2:N10000',returnas='matrix')\n",
    "#moas  \n",
    "list_4 = ws_drug_class.range('O2:O10000',returnas='matrix')"
   ]
  },
  {
   "cell_type": "code",
   "execution_count": null,
   "id": "5cfdfa16",
   "metadata": {},
   "outputs": [],
   "source": [
    "#flatten the above list\n",
    "l1 = [item for sublist in list_1 for item in sublist]\n",
    "l2 = [item for sublist in list_2 for item in sublist]\n",
    "l3 = [item for sublist in list_3 for item in sublist]\n",
    "l4 = [item for sublist in list_4 for item in sublist]"
   ]
  },
  {
   "cell_type": "markdown",
   "id": "5182b0a4",
   "metadata": {},
   "source": [
    "#### Add Qc'd values to base planner sheet\n",
    "****syntax: worksheet.update_col(index, values, row_offset=0))****"
   ]
  },
  {
   "cell_type": "code",
   "execution_count": null,
   "id": "afccaeec",
   "metadata": {},
   "outputs": [],
   "source": [
    "# add Qc'd values to base planner sheet\n",
    "ws.update_col(12,l1,row_offset=1)  # primary drug\n",
    "ws.update_col(13,l2,row_offset=1)  # secondary drug\n",
    "ws.update_col(14,l3,row_offset=1)  # comparator drug\n",
    "ws.update_col(15,l4,row_offset=1)  # moas\n",
    "\n",
    "time.sleep(2) #allow some time to reflect the changes in google sheet"
   ]
  },
  {
   "cell_type": "markdown",
   "id": "bdf98789",
   "metadata": {},
   "source": [
    "#### Vlookup Qc'd data into sessions file "
   ]
  },
  {
   "cell_type": "code",
   "execution_count": null,
   "id": "8d96e051",
   "metadata": {},
   "outputs": [],
   "source": [
    "#vlookup in raw data sheet\n",
    "ws_v1 = spreadsht.worksheet(\"title\", \"version_1\")"
   ]
  },
  {
   "cell_type": "code",
   "execution_count": null,
   "id": "28f14084",
   "metadata": {},
   "outputs": [],
   "source": [
    "ws_v1.update_col(16,l1,row_offset=1)  # primary drug\n",
    "ws_v1.update_col(17,l2,row_offset=1)  # secondary drug\n",
    "ws_v1.update_col(18,l3,row_offset=1)  # comparator drug\n",
    "ws_v1.update_col(20,l4,row_offset=1)  # moas\n",
    "time.sleep(2)"
   ]
  },
  {
   "cell_type": "code",
   "execution_count": null,
   "id": "265c0807",
   "metadata": {},
   "outputs": [],
   "source": [
    "#Change verification flag to 1\n",
    "flag_list1 = ws_v1.range('L2:L10000',returnas='matrix')\n",
    "flag_1 = [item for sublist in flag_list1 for item in sublist]\n",
    "\n",
    "for idx, item in enumerate(flag_1):\n",
    "    if item =='0':\n",
    "        flag_1[idx] = 1\n",
    "\n",
    "        \n",
    "ws_v1.update_col(12,flag_1,row_offset=1)\n",
    "time.sleep(0.1)"
   ]
  },
  {
   "cell_type": "code",
   "execution_count": null,
   "id": "5944119a",
   "metadata": {},
   "outputs": [],
   "source": [
    "#download the file as version 2\n",
    "ws_v1.export(filename='automation_v2', path='C:/Users/admin/Downloads')"
   ]
  },
  {
   "cell_type": "markdown",
   "id": "68a6afbd",
   "metadata": {},
   "source": [
    "#### Once the explicit verfication is done it should be reflected in the ferma portal.\n",
    "\n",
    "\n",
    "*1.Go to ferma congress--> particular conference-->upload modified csv and upload the downloaded file i.e \"automation_v2\"*\n",
    "2.click on implicit keywords---> download all_session_keywords_grouped as version_3"
   ]
  },
  {
   "cell_type": "markdown",
   "id": "02a01da2",
   "metadata": {},
   "source": [
    "### Part 2"
   ]
  },
  {
   "cell_type": "markdown",
   "id": "04003f39",
   "metadata": {},
   "source": [
    "#### Implicit run"
   ]
  },
  {
   "cell_type": "markdown",
   "id": "c6e18b2d",
   "metadata": {},
   "source": [
    "Import the downloaded version_3 into same spreadsheet url as above"
   ]
  },
  {
   "cell_type": "code",
   "execution_count": null,
   "id": "469fbfea",
   "metadata": {},
   "outputs": [],
   "source": [
    "#open version_3\n",
    "ws_v3=spreadsht.worksheet(\"title\", \"version_3\")"
   ]
  },
  {
   "cell_type": "markdown",
   "id": "2fefe05e",
   "metadata": {},
   "source": [
    "#### Vllokup firm and indications into base planner and version 3"
   ]
  },
  {
   "cell_type": "code",
   "execution_count": null,
   "id": "ba4abaef",
   "metadata": {},
   "outputs": [],
   "source": [
    "#indication  \n",
    "list_5 = ws_indication.range('Q2:Q10000',returnas='matrix')\n",
    "#agencies  \n",
    "list_6 = ws_firm.range('J2:J10000',returnas='matrix')\n",
    "#Acronym \n",
    "list_7 = ws_firm.range('R2:R10000',returnas='matrix')\n",
    "#NCT \n",
    "list_8 = ws_firm.range('S2:S10000',returnas='matrix')"
   ]
  },
  {
   "cell_type": "code",
   "execution_count": null,
   "id": "d8a902c3",
   "metadata": {},
   "outputs": [],
   "source": [
    "l5 = [item for sublist in list_5 for item in sublist]\n",
    "l6 = [item for sublist in list_6 for item in sublist]\n",
    "l7 = [item for sublist in list_7 for item in sublist]\n",
    "l8 = [item for sublist in list_8 for item in sublist]"
   ]
  },
  {
   "cell_type": "code",
   "execution_count": null,
   "id": "f72d5921",
   "metadata": {},
   "outputs": [],
   "source": [
    "#update qc'd data into base planner\n",
    "ws.update_col(17,l5,row_offset=1)  # indication\n",
    "ws.update_col(10,l6,row_offset=1)  # agencies\n",
    "ws.update_col(18,l7,row_offset=1)  # acronym\n",
    "ws.update_col(19,l8,row_offset=1)  # nct\n",
    "time.sleep(2)"
   ]
  },
  {
   "cell_type": "code",
   "execution_count": null,
   "id": "a5f096fd",
   "metadata": {},
   "outputs": [],
   "source": [
    "#update Qc'd data into sessions file\n",
    "ws_v3.update_col(22,l5,row_offset=1)  # indication\n",
    "ws_v3.update_col(13,l6,row_offset=1)  # agencies\n",
    "ws_v3.update_col(23,l7,row_offset=1)  # acronym\n",
    "ws_v3.update_col(24,l8,row_offset=1)  # nct\n",
    "time.sleep(2)"
   ]
  },
  {
   "cell_type": "code",
   "execution_count": null,
   "id": "3c6ee672",
   "metadata": {},
   "outputs": [],
   "source": [
    "#get moas from sessions_file as values to be updated in base planner \n",
    "moas_list = ws_v3.range('T2:T10000',returnas='matrix')\n",
    "moas=[item for sublist in moas_list for item in sublist]\n",
    "ws.update_col(15,moas,row_offset=1)\n",
    "time.sleep(1)"
   ]
  },
  {
   "cell_type": "code",
   "execution_count": null,
   "id": "79223ea1",
   "metadata": {},
   "outputs": [],
   "source": [
    "#Change verification flag instances from 1 to 2\n",
    "flag_list2 = ws_v3.range('L2:L10000',returnas='matrix')\n",
    "flag_2 = [item for sublist in flag_list2 for item in sublist]\n",
    "\n",
    "\n",
    "for idx, item in enumerate(flag_2):\n",
    "    if item =='1':\n",
    "        flag_2[idx] = 2\n",
    "\n",
    "#update the column        \n",
    "ws_v3.update_col(12,flag_2,row_offset=1)"
   ]
  },
  {
   "cell_type": "code",
   "execution_count": null,
   "id": "c3a2ddc1",
   "metadata": {},
   "outputs": [],
   "source": [
    "#download this version as v4 \n",
    "ws_v3.export(filename='automation_v4', path='C:/Users/admin/Downloads')"
   ]
  },
  {
   "cell_type": "markdown",
   "id": "2bdfac3f",
   "metadata": {},
   "source": [
    "#### Go to ferma congress and upload the above downloaded file into uplaod modified csv--> run implicit keywords"
   ]
  }
 ],
 "metadata": {
  "kernelspec": {
   "display_name": "Python 3 (ipykernel)",
   "language": "python",
   "name": "python3"
  },
  "language_info": {
   "codemirror_mode": {
    "name": "ipython",
    "version": 3
   },
   "file_extension": ".py",
   "mimetype": "text/x-python",
   "name": "python",
   "nbconvert_exporter": "python",
   "pygments_lexer": "ipython3",
   "version": "3.9.7"
  }
 },
 "nbformat": 4,
 "nbformat_minor": 5
}
